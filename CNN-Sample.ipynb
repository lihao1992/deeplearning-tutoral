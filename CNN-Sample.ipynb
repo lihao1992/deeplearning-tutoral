{
 "cells": [
  {
   "cell_type": "code",
   "execution_count": 2,
   "metadata": {
    "collapsed": false
   },
   "outputs": [
    {
     "name": "stdout",
     "output_type": "stream",
     "text": [
      " packs loaded\n"
     ]
    }
   ],
   "source": [
    "import numpy as np\n",
    "import tensorflow as tf\n",
    "import matplotlib.pyplot as plt\n",
    "\n",
    "from tensorflow.examples.tutorials.mnist import input_data\n",
    "# 将 matplotlib 生成的图表直接内嵌到notebook中\n",
    "%matplotlib inline  \n",
    "print ( \" packs loaded\")"
   ]
  },
  {
   "cell_type": "code",
   "execution_count": 3,
   "metadata": {
    "collapsed": false
   },
   "outputs": [
    {
     "name": "stdout",
     "output_type": "stream",
     "text": [
      "Extracting MNIST-data/train-images-idx3-ubyte.gz\n",
      "Extracting MNIST-data/train-labels-idx1-ubyte.gz\n",
      "Extracting MNIST-data/t10k-images-idx3-ubyte.gz\n",
      "Extracting MNIST-data/t10k-labels-idx1-ubyte.gz\n",
      " MNIST ready\n"
     ]
    }
   ],
   "source": [
    "# load MNIST  data\n",
    "mnist = input_data.read_data_sets(\"MNIST-data\", one_hot = True)\n",
    "trainimg = mnist.train.images\n",
    "trainlabel = mnist.train.labels\n",
    "testimg = mnist.test.images\n",
    "testlabel = mnist.test.labels\n",
    "\n",
    "print (\" MNIST ready\")"
   ]
  },
  {
   "cell_type": "code",
   "execution_count": 4,
   "metadata": {
    "collapsed": false
   },
   "outputs": [
    {
     "name": "stdout",
     "output_type": "stream",
     "text": [
      " CNN  get  ready ! \n"
     ]
    }
   ],
   "source": [
    "# 构建 Convolution Neural Network \n",
    "\n",
    "n_input = 784\n",
    "n_output = 10\n",
    "weights = {\n",
    "            'wc1' : tf.Variable( tf.random_normal( [ 3 ,  3 , 1 , 64 ],  stddev = 0.1)) , \n",
    "            'wd1' : tf.Variable( tf.random_normal( [ 14 * 14 * 64 ,  n_output] ,  stddev = 0.1))\n",
    "}\n",
    "biases = {\n",
    "            'bc1' : tf.Variable(tf.random_normal( [ 64 ] ,  stddev = 0.1 )) ,\n",
    "            'bd1' : tf.Variable( tf.random_normal( [ n_output ] , stddev = 0.1))\n",
    "}\n",
    "\n",
    "def  conv_simple( _input ,  _w , _b) :\n",
    "    _input_r = tf.reshape( _input , shape = [ -1, 28 , 28, 1 ] )  #  Reshape  input\n",
    "    \n",
    "    _conv1 = tf.nn.conv2d( _input_r , _w[ 'wc1' ] ,  strides = [ 1 , 1 , 1, 1 ] ,  padding = 'SAME' )  # Convolution\n",
    "    \n",
    "    _conv2 = tf.nn.bias_add( _conv1 , _b[ 'bc1' ] )  # Add  bias\n",
    "    \n",
    "    _conv3 = tf.nn.relu( _conv2 )  #  Pass  ReLu\n",
    "    \n",
    "    _pool   = tf.nn.max_pool( _conv3 , ksize = [ 1, 2, 2, 1 ] ,  strides = [ 1, 2, 2, 1 ] ,  padding = 'SAME' )  # Max-pooling\n",
    "    \n",
    "    _dense = tf.reshape( _pool , [ -1 ,  _w[ 'wd1' ] . get_shape() . as_list() [ 0 ] ]  )  #  Vectorize\n",
    "    \n",
    "    _out     = tf.add( tf.matmul( _dense , _w[ 'wd1' ] ) , _b[ 'bd1' ] )   #   Fully - connected  layer\n",
    "   \n",
    "    out = { 'input_r' : _input_r , 'conv1' : _conv1 , 'conv2' : _conv2 , 'conv3' : _conv3 , 'pool' : _pool , 'dense' : _dense , 'out' : _out }  # Return  everything\n",
    "    \n",
    "    return out \n",
    "\n",
    "print ( \" CNN  get  ready ! \" )"
   ]
  },
  {
   "cell_type": "code",
   "execution_count": 5,
   "metadata": {
    "collapsed": false
   },
   "outputs": [],
   "source": [
    "# tf  Graph  input\n",
    "x = tf.placeholder( tf.float32, [ None , n_input] )\n",
    "y = tf.placeholder( tf.float32, [ None , n_output] )\n",
    "\n"
   ]
  },
  {
   "cell_type": "code",
   "execution_count": 6,
   "metadata": {
    "collapsed": true
   },
   "outputs": [],
   "source": [
    "# Parameters\n",
    "learning_rate       = 0.001\n",
    "training_epochs   = 5\n",
    "batch_size            = 100\n",
    "display_step       = 1\n",
    "\n"
   ]
  },
  {
   "cell_type": "code",
   "execution_count": 7,
   "metadata": {
    "collapsed": false
   },
   "outputs": [],
   "source": [
    "# Functions ! 333\n",
    "_pred = conv_simple( x , weights , biases ) [ 'out' ]\n",
    "\n",
    "cost = tf.reduce_mean( tf.nn.softmax_cross_entropy_with_logits( logits = _pred , labels = y ) )   #   TF1.0 bug  fixed  必须加等式\n",
    "\n",
    "optm = tf.train.AdamOptimizer( learning_rate = learning_rate ).minimize( cost ) \n",
    "\n",
    "_corr = tf.equal(tf.argmax( _pred , 1) , tf.argmax( y , 1 ) )  # count  corrects\n",
    "\n",
    "accr = tf.reduce_mean( tf.cast( _corr , tf.float32) )  #  Accuracy\n",
    "\n",
    "init = tf.global_variables_initializer()\n"
   ]
  },
  {
   "cell_type": "code",
   "execution_count": 8,
   "metadata": {
    "collapsed": false
   },
   "outputs": [
    {
     "name": "stdout",
     "output_type": "stream",
     "text": [
      " Network  ready  to  Go ! \n"
     ]
    }
   ],
   "source": [
    "# Saver\n",
    "save_step = 1;\n",
    "\n",
    "savedir = \" nets/ \"\n",
    "\n",
    "saver = tf.train.Saver( max_to_keep = training_epochs )\n",
    "\n",
    "print ( \" Network  ready  to  Go ! \" )"
   ]
  },
  {
   "cell_type": "code",
   "execution_count": 9,
   "metadata": {
    "collapsed": false
   },
   "outputs": [
    {
     "name": "stdout",
     "output_type": "stream",
     "text": [
      " Epoch :     0 /    5  cost : 0.350691188 \n",
      " Training accuracy : 0.970 \n",
      " Test accuracy :  0.956 \n",
      " Epoch :     1 /    5  cost : 0.107337555 \n",
      " Training accuracy : 0.960 \n",
      " Test accuracy :  0.976 \n",
      " Epoch :     2 /    5  cost : 0.074798108 \n",
      " Training accuracy : 0.970 \n",
      " Test accuracy :  0.977 \n",
      " Epoch :     3 /    5  cost : 0.059408131 \n",
      " Training accuracy : 0.990 \n",
      " Test accuracy :  0.980 \n",
      " Epoch :     4 /    5  cost : 0.050595923 \n",
      " Training accuracy : 0.980 \n",
      " Test accuracy :  0.981 \n",
      " Optimization finished ! \n"
     ]
    }
   ],
   "source": [
    "do_train = 1 \n",
    "\n",
    "# do some optimizations\n",
    "sess = tf.Session()\n",
    "sess.run(init)\n",
    "\n",
    "if do_train == 1:\n",
    "    for epoch in range ( training_epochs) : \n",
    "            avg_cost = 0.\n",
    "            total_batch = int ( mnist.train.num_examples/batch_size)\n",
    "            \n",
    "            # 循环 all  batches\n",
    "            for i in range ( total_batch ) :\n",
    "                batch_xs , batch_ys = mnist.train.next_batch( batch_size )\n",
    "                \n",
    "                # fit training using batch data\n",
    "                sess.run( optm , feed_dict = { x: batch_xs , y: batch_ys} ) \n",
    "                \n",
    "                # compute average loss \n",
    "                avg_cost += sess.run( cost , feed_dict = { x: batch_xs , y: batch_ys}) / total_batch\n",
    "                \n",
    "            # Display logs per epoch step\n",
    "            if epoch % display_step == 0 :\n",
    "                print ( \" Epoch :  %4d / %4d  cost : %.9f \"  %  (epoch , training_epochs , avg_cost ) )\n",
    "                \n",
    "                train_acc  = sess.run( accr , feed_dict = { x: batch_xs ,  y: batch_ys} )\n",
    "                \n",
    "                print ( \" Training accuracy : %.3f \"  %  ( train_acc ) )\n",
    "                \n",
    "                test_acc = sess.run( accr , feed_dict = { x: testimg ,  y: testlabel} )\n",
    "                \n",
    "                print ( \" Test accuracy :  %.3f \"   %  ( test_acc ) )\n",
    "                \n",
    "            # Save Net\n",
    "         #   if epoch  %  save_step == 0 :\n",
    "          #      saver.save( sess , \" nets/cnn_sample.ckpt - \" + str(epoch) )\n",
    "        \n",
    "    print ( \" Optimization finished ! \")"
   ]
  },
  {
   "cell_type": "code",
   "execution_count": 10,
   "metadata": {
    "collapsed": false
   },
   "outputs": [],
   "source": [
    "# display\n",
    "conv_out = conv_simple( x, weights, biases )\n",
    "\n",
    "input_r = sess.run( conv_out [ 'input_r'] , feed_dict = { x: trainimg[ 0:1 ,  : ] } )\n",
    "conv1 = sess.run(conv_out [ 'conv1'] , feed_dict = { x: trainimg[ 0:1 ,  : ] } )\n",
    "conv2 = sess.run( conv_out [ 'conv2'] , feed_dict = { x: trainimg[ 0:1 ,  : ] } )\n",
    "conv3 = sess.run(conv_out [ 'conv3'] , feed_dict = { x: trainimg[ 0:1 ,  : ] } )\n",
    "pool = sess.run(conv_out [ 'pool'] , feed_dict = { x: trainimg[ 0:1 ,  : ] } )\n"
   ]
  },
  {
   "cell_type": "code",
   "execution_count": 18,
   "metadata": {
    "collapsed": false
   },
   "outputs": [
    {
     "name": "stdout",
     "output_type": "stream",
     "text": [
      " Size of  'input_r'   is  (1, 28, 28, 1) \n",
      " Label is 7\n"
     ]
    },
    {
     "data": {
      "image/png": "[encoded data removed]",
      "text/plain": [
       "<matplotlib.figure.Figure at 0x7f0d09d4bd50>"
      ]
     },
     "metadata": {},
     "output_type": "display_data"
    }
   ],
   "source": [
    "#  display  'input_r'\n",
    "print (\" Size of  'input_r'   is  %s \"   %  (input_r.shape , ) ) \n",
    "label = np.argmax(trainlabel[0, : ] )\n",
    "print ( \" Label is %d\"  % (label) )\n",
    "\n",
    "# plot\n",
    "plt.matshow(input_r[0, : , : , 0 ]  , cmap = plt.get_cmap( 'gray' ) )\n",
    "plt.title( \" Label of this image is \"  +  str( label )  +  \" \")\n",
    "plt.colorbar()\n",
    "plt.show()"
   ]
  },
  {
   "cell_type": "code",
   "execution_count": null,
   "metadata": {
    "collapsed": false
   },
   "outputs": [],
   "source": []
  },
  {
   "cell_type": "code",
   "execution_count": null,
   "metadata": {
    "collapsed": true
   },
   "outputs": [],
   "source": []
  }
 ],
 "metadata": {
  "kernelspec": {
   "display_name": "Python 2",
   "language": "python",
   "name": "python2"
  },
  "language_info": {
   "codemirror_mode": {
    "name": "ipython",
    "version": 2
   },
   "file_extension": ".py",
   "mimetype": "text/x-python",
   "name": "python",
   "nbconvert_exporter": "python",
   "pygments_lexer": "ipython2",
   "version": "2.7.13"
  }
 },
 "nbformat": 4,
 "nbformat_minor": 2
}
