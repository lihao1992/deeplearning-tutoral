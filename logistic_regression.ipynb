{
 "cells": [
  {
   "cell_type": "code",
   "execution_count": 1,
   "metadata": {
    "collapsed": false,
    "scrolled": true
   },
   "outputs": [],
   "source": [
    "import tensorflow as tf"
   ]
  },
  {
   "cell_type": "code",
   "execution_count": 2,
   "metadata": {
    "collapsed": true
   },
   "outputs": [],
   "source": [
    "from tensorflow.examples.tutorials.mnist import input_data"
   ]
  },
  {
   "cell_type": "code",
   "execution_count": 4,
   "metadata": {
    "collapsed": false
   },
   "outputs": [
    {
     "name": "stdout",
     "output_type": "stream",
     "text": [
      "Extracting MNIST-data/train-images-idx3-ubyte.gz\n",
      "Extracting MNIST-data/train-labels-idx1-ubyte.gz\n",
      "Extracting MNIST-data/t10k-images-idx3-ubyte.gz\n",
      "Extracting MNIST-data/t10k-labels-idx1-ubyte.gz\n"
     ]
    }
   ],
   "source": [
    "# Import  MNIST data\n",
    "mnist = input_data.read_data_sets(\"MNIST-data\", one_hot = True)"
   ]
  },
  {
   "cell_type": "code",
   "execution_count": 11,
   "metadata": {
    "collapsed": false
   },
   "outputs": [],
   "source": [
    "#  set  parameters  ^^\n",
    "learning_rate = 1.0\n",
    "training_epochs = 30\n",
    "batch_size = 100\n",
    "display_step = 1\n",
    "\n",
    "# tf  Graph Input\n",
    "\n",
    "x = tf.placeholder( tf.float32,  [None, 784]) \n",
    "y = tf.placeholder( tf.float32,  [None, 10])\n",
    "\n",
    "# set  Model  weight \n",
    "\n",
    "W = tf.Variable(tf.zeros([784,10]))\n",
    "b = tf.Variable(tf.zeros([10]))\n",
    "\n",
    "#  构建模型\n",
    "\n",
    "pred = tf.nn.softmax(tf.matmul( x, W ) + b)  #  Softmax  是  logistic回归模型在分类问题上的推广 \n",
    "\n",
    "# Minimize error using cross entrop  （最小化 cost function using  交叉熵）\n",
    "\n",
    "cost = tf.reduce_mean(-tf.reduce_sum( y * tf.log(pred),  reduction_indices = 1))\n",
    "\n",
    "#Gradient descent\n",
    "\n",
    "optimizer = tf.train.GradientDescentOptimizer(learning_rate).minimize(cost)\n",
    "\n",
    "# Initializing the variables\n",
    "\n",
    "init = tf.global_variables_initializer()\n"
   ]
  },
  {
   "cell_type": "code",
   "execution_count": 12,
   "metadata": {
    "collapsed": false
   },
   "outputs": [
    {
     "name": "stdout",
     "output_type": "stream",
     "text": [
      " Epoch :     1 /   30  cost :  0.413411784  \n",
      " Epoch :     2 /   30  cost :  0.315439745  \n",
      " Epoch :     3 /   30  cost :  0.302500236  \n",
      " Epoch :     4 /   30  cost :  0.299341902  \n",
      " Epoch :     5 /   30  cost :  0.291404144  \n",
      " Epoch :     6 /   30  cost :  0.289257376  \n",
      " Epoch :     7 /   30  cost :  0.286377158  \n",
      " Epoch :     8 /   30  cost :  0.281614409  \n",
      " Epoch :     9 /   30  cost :  0.280895328  \n",
      " Epoch :    10 /   30  cost :  0.279427462  \n",
      " Epoch :    11 /   30  cost :  0.276785218  \n",
      " Epoch :    12 /   30  cost :  0.276255022  \n",
      " Epoch :    13 /   30  cost :  0.274147658  \n",
      " Epoch :    14 /   30  cost :  0.274102650  \n",
      " Epoch :    15 /   30  cost :  0.274240925  \n",
      " Epoch :    16 /   30  cost :  0.271190280  \n",
      " Epoch :    17 /   30  cost :  0.269457520  \n",
      " Epoch :    18 /   30  cost :  0.268409058  \n",
      " Epoch :    19 /   30  cost :  0.268127642  \n",
      " Epoch :    20 /   30  cost :  0.267275746  \n",
      " Epoch :    21 /   30  cost :  0.268256676  \n",
      " Epoch :    22 /   30  cost :  0.265007465  \n",
      " Epoch :    23 /   30  cost :  0.267738135  \n",
      " Epoch :    24 /   30  cost :  0.263988369  \n",
      " Epoch :    25 /   30  cost :  0.266215504  \n",
      " Epoch :    26 /   30  cost :  0.265396964  \n",
      " Epoch :    27 /   30  cost :  0.264953884  \n",
      " Epoch :    28 /   30  cost :  0.264447371  \n",
      " Epoch :    29 /   30  cost :  0.261578428  \n",
      " Epoch :    30 /   30  cost :  0.263940418  \n",
      " Optimization finished ! \n",
      " Accuracy :  0.899667\n"
     ]
    }
   ],
   "source": [
    "# Launch the Graph\n",
    "\n",
    "with tf.Session() as sess :\n",
    "    sess.run(init)\n",
    "    \n",
    "    # training  cycle\n",
    "    for epoch in range ( training_epochs):\n",
    "        \n",
    "        avg_cost = 0.\n",
    "        total_batch = int( mnist.train.num_examples/batch_size)\n",
    "        \n",
    "        #  循环 all batches\n",
    "        for i in range (total_batch):\n",
    "            \n",
    "            batch_xs, batch_ys = mnist.train.next_batch(batch_size)\n",
    "            \n",
    "            # fit training using batch data\n",
    "            _,  c  = sess.run([ optimizer, cost], feed_dict = {x: batch_xs,\n",
    "                                                                                           y: batch_ys} )\n",
    "            \n",
    "            # compute average loss\n",
    "            avg_cost += c / total_batch\n",
    "        \n",
    "        # Display logs per epoch step\n",
    "        if ( epoch +1 ) % display_step == 0:\n",
    "            print  ( \" Epoch :  %4d / %4d  cost :  %.9f  \"  % ( (epoch+1), training_epochs,  avg_cost))\n",
    "            \n",
    "    print \" Optimization finished ! \"\n",
    "    \n",
    "    #  Test model \n",
    "    correct_prediction = tf.equal( tf.argmax(pred , 1), tf.argmax( y, 1))\n",
    "    \n",
    "    # caculate accuracy for 3000 examples\n",
    "    accuracy = tf.reduce_mean(tf.cast(correct_prediction , tf.float32))\n",
    "    \n",
    "    print \" Accuracy : \", accuracy.eval( {x: mnist.test.images[ : 3000],  y: mnist.test.labels[: 3000]})"
   ]
  },
  {
   "cell_type": "code",
   "execution_count": null,
   "metadata": {
    "collapsed": true
   },
   "outputs": [],
   "source": [
    "#  cost function 一直在下降， 说明训练基本成功。\n",
    "#  尝试将 learnin_rate 由 0.01 改为 1.0，训练结果变好，cost下降更快，在20次周期趋于平稳，accuracy 也提高了。"
   ]
  }
 ],
 "metadata": {
  "kernelspec": {
   "display_name": "Python 2",
   "language": "python",
   "name": "python2"
  },
  "language_info": {
   "codemirror_mode": {
    "name": "ipython",
    "version": 2
   },
   "file_extension": ".py",
   "mimetype": "text/x-python",
   "name": "python",
   "nbconvert_exporter": "python",
   "pygments_lexer": "ipython2",
   "version": "2.7.13"
  }
 },
 "nbformat": 4,
 "nbformat_minor": 2
}
