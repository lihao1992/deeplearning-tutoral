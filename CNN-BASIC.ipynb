{
 "cells": [
  {
   "cell_type": "code",
   "execution_count": 1,
   "metadata": {
    "collapsed": true
   },
   "outputs": [],
   "source": [
    "import numpy as np\n",
    "import tensorflow as tf\n",
    "import matplotlib.pyplot as plt \n",
    "from tensorflow.examples.tutorials.mnist import input_data\n",
    "%matplotlib inline"
   ]
  },
  {
   "cell_type": "code",
   "execution_count": 3,
   "metadata": {
    "collapsed": false
   },
   "outputs": [
    {
     "name": "stdout",
     "output_type": "stream",
     "text": [
      "Extracting MNIST-data/train-images-idx3-ubyte.gz\n",
      "Extracting MNIST-data/train-labels-idx1-ubyte.gz\n",
      "Extracting MNIST-data/t10k-images-idx3-ubyte.gz\n",
      "Extracting MNIST-data/t10k-labels-idx1-ubyte.gz\n"
     ]
    }
   ],
   "source": [
    "mnist = input_data.read_data_sets('MNIST-data' ,  one_hot = True)\n",
    "trainimg  = mnist.train.images\n",
    "trainlabel = mnist.train.labels\n",
    "testimg = mnist.test.images\n",
    "testlabel = mnist.test.labels"
   ]
  },
  {
   "cell_type": "code",
   "execution_count": 23,
   "metadata": {
    "collapsed": false
   },
   "outputs": [],
   "source": [
    "# 构建 network\n",
    "\n",
    "n_input = 784\n",
    "n_output = 10\n",
    "_keepratio = 0.75\n",
    "\n",
    "weights = {\n",
    "    \n",
    "    'wc1' : tf.Variable(tf.random_normal( [ 3, 3, 1, 64 ], stddev = 0.1)),\n",
    "    'wc2' : tf.Variable(tf.random_normal( [ 3, 3, 64, 128 ], stddev = 0.1)),\n",
    "    'wd1' : tf.Variable(tf.random_normal( [ 7*7*128 , 1024 ], stddev = 0.1)),\n",
    "    'wd2' : tf.Variable(tf.random_normal( [ 1024, n_output ] , stddev = 0.1))\n",
    "}\n",
    "\n",
    "biases = {\n",
    "    \n",
    "    'bc1' : tf.Variable(tf.random_normal( [ 64 ] , stddev = 0.1)),\n",
    "    'bc2' : tf.Variable(tf.random_normal( [128] , stddev = 0.1)),\n",
    "    'bd1' : tf.Variable(tf.random_normal( [1024] , stddev = 0.1)),\n",
    "    'bd2' : tf.Variable(tf.random_normal( [n_output], stddev =0.1))\n",
    "}\n",
    "\n",
    "def conv_basic ( _input , _w , _b , _keepratio ) :\n",
    "    \n",
    "    #input\n",
    "    _input_r = tf.reshape(_input , shape = [-1, 28, 28 , 1] )\n",
    "    \n",
    "    #Conv1\n",
    "    _conv1 = tf.nn.conv2d( _input_r , _w['wc1'] , strides = [ 1, 1, 1, 1] ,  padding = 'SAME' )\n",
    "    _conv1 = tf.nn.batch_normalization( _conv1 ,  0.001 , 1.0 , 0, 1 , 0.0001 )  #  ?\n",
    "    _conv1 = tf.nn.relu(tf.nn.bias_add( _conv1 , _b['bc1'] ))  \n",
    "    _pool1 = tf.nn.max_pool(_conv1 , ksize = [1, 2, 2, 1] , strides = [1, 2, 2, 1] , padding = 'SAME')\n",
    "    _pool1_dp1 = tf.nn.dropout( _pool1 , _keepratio)\n",
    "    \n",
    "    # Conv2\n",
    "    _conv2 = tf.nn.conv2d( _pool1_dp1 , _w['wc2'] , strides = [ 1, 1, 1, 1] , padding = 'SAME')\n",
    "    _conv2 = tf.nn.batch_normalization(_conv2 , 0.001 , 1.0, 0 , 1, 0.0001)\n",
    "    _conv2 = tf.nn.relu(tf.nn.bias_add(_conv2 , _b['bc2'] ))\n",
    "    _pool2 = tf.nn.max_pool(_conv2 , ksize = [1, 2, 2, 1], strides = [ 1, 2, 2, 1],  padding ='SAME' )\n",
    "    _pool_dp2 = tf.nn.dropout( _pool2 , _keepratio)\n",
    "    \n",
    "    #Vectorize\n",
    "    _dense1 = tf.reshape( _pool_dp2 , [-1 , _w['wd1'].get_shape().as_list()[ 0 ] ] )\n",
    "    \n",
    "    # Fc1\n",
    "    _fc1 = tf.nn.relu( tf.add( tf.matmul( _dense1 , _w[ 'wd1' ] ) ,  _b[ 'bd1' ] ) )\n",
    "    _fc_dp1 = tf.nn.dropout( _fc1 , _keepratio )\n",
    "    \n",
    "    #Fc2\n",
    "    _out = tf.add( tf.matmul( _fc_dp1 , _w[ 'wd2' ] ) , _b[ 'bd2' ] )\n",
    "    \n",
    "    # Return everything\n",
    "    out = {\n",
    "        'input_r' : _input_r,\n",
    "        'conv1' : _conv1,\n",
    "        'pool1' : _pool1,\n",
    "        'conv2' : _conv2,\n",
    "        'pool2' : _pool2,\n",
    "        'pool_dp2' : _pool_dp2,\n",
    "        'dense' : _dense1,\n",
    "        'fc1' : _fc1,\n",
    "        'fc_dp1' : _fc_dp1,\n",
    "        'out' : _out\n",
    "    }\n",
    "    \n",
    "    return out"
   ]
  },
  {
   "cell_type": "code",
   "execution_count": 24,
   "metadata": {
    "collapsed": false
   },
   "outputs": [
    {
     "name": "stdout",
     "output_type": "stream",
     "text": [
      " Network  ready  to  Go ! \n"
     ]
    }
   ],
   "source": [
    "# tf  Graph  input\n",
    "x = tf.placeholder( tf.float32, [ None , n_input] )\n",
    "y = tf.placeholder( tf.float32, [ None , n_output] )\n",
    "\n",
    "# Parameters\n",
    "learning_rate       = 0.001\n",
    "training_epochs   = 5\n",
    "batch_size            = 100\n",
    "display_step       = 1\n",
    "\n",
    "# Functions ! 333\n",
    "_pred = conv_basic( x , weights , biases, _keepratio ) [ 'out' ]\n",
    "\n",
    "cost = tf.reduce_mean( tf.nn.softmax_cross_entropy_with_logits( logits = _pred , labels = y ) )   #   TF1.0 bug  fixed  必须加等式\n",
    "\n",
    "optm = tf.train.AdamOptimizer( learning_rate = learning_rate ).minimize( cost ) \n",
    "\n",
    "_corr = tf.equal(tf.argmax( _pred , 1) , tf.argmax( y , 1 ) )  # count  corrects\n",
    "\n",
    "accr = tf.reduce_mean( tf.cast( _corr , tf.float32) )  #  Accuracy\n",
    "\n",
    "init = tf.global_variables_initializer()\n",
    "\n",
    "# Saver\n",
    "save_step = 1;\n",
    "\n",
    "savedir = \" nets/ \"\n",
    "\n",
    "saver = tf.train.Saver( max_to_keep = training_epochs )\n",
    "\n",
    "print ( \" Network  ready  to  Go ! \" )"
   ]
  },
  {
   "cell_type": "code",
   "execution_count": null,
   "metadata": {
    "collapsed": false
   },
   "outputs": [
    {
     "name": "stdout",
     "output_type": "stream",
     "text": [
      " Epoch :     0 /    5  cost : 0.529632958 \n",
      " Training accuracy : 0.960 \n",
      " Test accuracy :  0.971 \n",
      " Epoch :     1 /    5  cost : 0.080203810 \n",
      " Training accuracy : 0.980 \n",
      " Test accuracy :  0.977 \n",
      " Epoch :     2 /    5  cost : 0.055751287 \n",
      " Training accuracy : 0.970 \n",
      " Test accuracy :  0.983 \n",
      " Epoch :     3 /    5  cost : 0.042000231 \n",
      " Training accuracy : 0.950 \n",
      " Test accuracy :  0.983 \n",
      " Epoch :     4 /    5  cost : 0.034283692 \n",
      " Training accuracy : 0.990 \n",
      " Test accuracy :  0.987 \n",
      " Optimization finished ! \n"
     ]
    }
   ],
   "source": [
    "do_train = 1\n",
    "\n",
    "sess = tf.Session()\n",
    "sess.run(init)\n",
    "\n",
    "if do_train == 1:\n",
    "    for epoch in range ( training_epochs) : \n",
    "            avg_cost = 0.\n",
    "            total_batch = int ( mnist.train.num_examples/batch_size)\n",
    "            \n",
    "            # 循环 all  batches\n",
    "            for i in range ( total_batch ) :\n",
    "                batch_xs , batch_ys = mnist.train.next_batch( batch_size )\n",
    "                \n",
    "                # fit training using batch data\n",
    "                sess.run( optm , feed_dict = { x: batch_xs , y: batch_ys} ) \n",
    "                \n",
    "                # compute average loss \n",
    "                avg_cost += sess.run( cost , feed_dict = { x: batch_xs , y: batch_ys}) / total_batch\n",
    "                \n",
    "            # Display logs per epoch step\n",
    "            if epoch % display_step == 0 :\n",
    "                print ( \" Epoch :  %4d / %4d  cost : %.9f \"  %  (epoch , training_epochs , avg_cost ) )\n",
    "                \n",
    "                train_acc  = sess.run( accr , feed_dict = { x: batch_xs ,  y: batch_ys} )\n",
    "                \n",
    "                print ( \" Training accuracy : %.3f \"  %  ( train_acc ) )\n",
    "                \n",
    "                test_acc = sess.run( accr , feed_dict = { x: testimg ,  y: testlabel} )\n",
    "                \n",
    "                print ( \" Test accuracy :  %.3f \"   %  ( test_acc ) )\n",
    "                \n",
    "            # Save Net\n",
    "        #   if epoch  %  save_step == 0 :\n",
    "           #      saver.save( sess , \" nets/cnn_sample.ckpt - \" + str(epoch) )\n",
    "        \n",
    "    print ( \" Optimization finished ! \")"
   ]
  },
  {
   "cell_type": "code",
   "execution_count": null,
   "metadata": {
    "collapsed": true
   },
   "outputs": [],
   "source": []
  }
 ],
 "metadata": {
  "kernelspec": {
   "display_name": "Python 2",
   "language": "python",
   "name": "python2"
  },
  "language_info": {
   "codemirror_mode": {
    "name": "ipython",
    "version": 2
   },
   "file_extension": ".py",
   "mimetype": "text/x-python",
   "name": "python",
   "nbconvert_exporter": "python",
   "pygments_lexer": "ipython2",
   "version": "2.7.13"
  }
 },
 "nbformat": 4,
 "nbformat_minor": 2
}
