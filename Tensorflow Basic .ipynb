{
 "cells": [
  {
   "cell_type": "code",
   "execution_count": 1,
   "metadata": {
    "collapsed": false
   },
   "outputs": [
    {
     "name": "stdout",
     "output_type": "stream",
     "text": [
      "Packs loaded\n"
     ]
    }
   ],
   "source": [
    "import numpy as np\n",
    "import tensorflow as tf\n",
    "print(\"Packs loaded\")"
   ]
  },
  {
   "cell_type": "markdown",
   "metadata": {},
   "source": [
    "// In order to make things happen, we need 'session' !"
   ]
  },
  {
   "cell_type": "code",
   "execution_count": 2,
   "metadata": {
    "collapsed": true
   },
   "outputs": [],
   "source": [
    "sess = tf.Session()"
   ]
  },
  {
   "cell_type": "code",
   "execution_count": 3,
   "metadata": {
    "collapsed": false
   },
   "outputs": [
    {
     "name": "stdout",
     "output_type": "stream",
     "text": [
      "hello is Tensor(\"Const:0\", shape=(), dtype=string)\n"
     ]
    }
   ],
   "source": [
    "hello = tf.constant(\"Hello, it's Bat Man\")\n",
    "print (\"hello is %s\"  %  (hello))"
   ]
  },
  {
   "cell_type": "code",
   "execution_count": 4,
   "metadata": {
    "collapsed": false,
    "scrolled": true
   },
   "outputs": [
    {
     "name": "stdout",
     "output_type": "stream",
     "text": [
      "\n",
      "Type of 'hello' : <class 'tensorflow.python.framework.ops.Tensor'> \n",
      "Type of 'hello_out': <type 'str'>\n",
      "\n",
      "Hello, it's Bat Man\n"
     ]
    }
   ],
   "source": [
    "hello_out = sess.run(hello)\n",
    "print (\"\\nType of 'hello' : %s \" % (type(hello)))\n",
    "print (\"Type of 'hello_out': %s\" % (type(hello_out)))\n",
    "print\n",
    "print (hello_out)"
   ]
  },
  {
   "cell_type": "markdown",
   "metadata": {},
   "source": [
    "\"\"\"Constant types\"\"\""
   ]
  },
  {
   "cell_type": "code",
   "execution_count": 5,
   "metadata": {
    "collapsed": false
   },
   "outputs": [
    {
     "name": "stdout",
     "output_type": "stream",
     "text": [
      "Constant types (numpy)\n",
      " 'a' :  Tensor(\"Const_1:0\", shape=(), dtype=float32)  \n",
      "        Type :  <class 'tensorflow.python.framework.ops.Tensor'> \n",
      " 'b' :   Tensor(\"Const_2:0\", shape=(), dtype=float32)  \n",
      "        Type :  <class 'tensorflow.python.framework.ops.Tensor'>\n"
     ]
    }
   ],
   "source": [
    "print (\"Constant types (numpy)\")\n",
    "a = tf.constant(1.5)\n",
    "b = tf.constant(2.5)\n",
    "print (\" 'a' :  %s  \\n        Type :  %s \"  % (a, type(a)))\n",
    "print (\" 'b' :   %s  \\n        Type :  %s\"  % (b, type(b)))"
   ]
  },
  {
   "cell_type": "code",
   "execution_count": 6,
   "metadata": {
    "collapsed": false
   },
   "outputs": [
    {
     "name": "stdout",
     "output_type": "stream",
     "text": [
      "\n",
      " Type of  'a_out'  is  <type 'numpy.float32'>\n",
      " Type of  'b_out'  is  <type 'numpy.float32'>\n"
     ]
    }
   ],
   "source": [
    "a_out = sess.run(a)\n",
    "b_out = sess.run(b)\n",
    "print\n",
    "print (\" Type of  'a_out'  is  %s\"  %  (type(a_out)))\n",
    "print (\" Type of  'b_out'  is  %s\"  %  (type(b_out)))"
   ]
  },
  {
   "cell_type": "code",
   "execution_count": 7,
   "metadata": {
    "collapsed": false
   },
   "outputs": [
    {
     "name": "stdout",
     "output_type": "stream",
     "text": [
      " a_out  is  1.5\n",
      " b_out  is  2.5\n",
      " a_out+b_out  is  4.0\n"
     ]
    }
   ],
   "source": [
    "print (\" a_out  is  %.1f\\n b_out  is  %.1f\\n a_out+b_out  is  %.1f\"  %  (a_out, b_out, a_out+b_out))"
   ]
  },
  {
   "cell_type": "markdown",
   "metadata": {},
   "source": [
    "\"\"\" Operations  are  also  tf  variables\"\"\""
   ]
  },
  {
   "cell_type": "code",
   "execution_count": 19,
   "metadata": {
    "collapsed": false
   },
   "outputs": [
    {
     "name": "stdout",
     "output_type": "stream",
     "text": [
      " Operations (tf.add,  tf.multiply)\n",
      " 'add'  is  Tensor(\"Add_1:0\", shape=(), dtype=float32) \n",
      "        Type is <class 'tensorflow.python.framework.ops.Tensor'>\n"
     ]
    }
   ],
   "source": [
    "print (\" Operations (tf.add,  tf.multiply)\")\n",
    "add = tf.add(a, b)\n",
    "print (\" 'add'  is  %s \\n        Type is %s\"   %  (add, type(add)))"
   ]
  },
  {
   "cell_type": "code",
   "execution_count": 9,
   "metadata": {
    "collapsed": false
   },
   "outputs": [
    {
     "name": "stdout",
     "output_type": "stream",
     "text": [
      " 'add_out'  is  4.0 \n",
      "     Type  is  <type 'numpy.float32'>\n"
     ]
    }
   ],
   "source": [
    "add_out = sess.run(add)\n",
    "print (\" 'add_out'  is  %s \\n     Type  is  %s\"  %  (add_out, type(add_out)))"
   ]
  },
  {
   "cell_type": "code",
   "execution_count": 17,
   "metadata": {
    "collapsed": false
   },
   "outputs": [
    {
     "name": "stdout",
     "output_type": "stream",
     "text": [
      " 'mul'  is  Tensor(\"Mul_3:0\", shape=(), dtype=float32) \n",
      "       Type  is  <class 'tensorflow.python.framework.ops.Tensor'>\n"
     ]
    }
   ],
   "source": [
    "mul = tf.multiply(a, b)  \n",
    "print (\" 'mul'  is  %s \\n       Type  is  %s\"   %   (mul,  type(mul)))"
   ]
  },
  {
   "cell_type": "code",
   "execution_count": 18,
   "metadata": {
    "collapsed": false
   },
   "outputs": [
    {
     "name": "stdout",
     "output_type": "stream",
     "text": [
      " 'mul_out'  is  3.75 \n"
     ]
    }
   ],
   "source": [
    "mul_out  =  sess.run(mul)\n",
    "print (\" 'mul_out'  is  %s \"  % (mul_out))"
   ]
  },
  {
   "cell_type": "markdown",
   "metadata": {},
   "source": [
    "\"\"\" PlaceHolder  &  Variables \"\"\""
   ]
  },
  {
   "cell_type": "code",
   "execution_count": 20,
   "metadata": {
    "collapsed": false
   },
   "outputs": [
    {
     "name": "stdout",
     "output_type": "stream",
     "text": [
      " PlaceHolder  &  Variables\n"
     ]
    }
   ],
   "source": [
    "print (\" PlaceHolder  &  Variables\")"
   ]
  },
  {
   "cell_type": "code",
   "execution_count": 21,
   "metadata": {
    "collapsed": false
   },
   "outputs": [
    {
     "name": "stdout",
     "output_type": "stream",
     "text": [
      "  'Input' : Tensor(\"Placeholder:0\", shape=(?, 20), dtype=float32) \n",
      "       Type  is  <class 'tensorflow.python.framework.ops.Tensor'> \n",
      "\n",
      "   'Weight' : Tensor(\"Variable/read:0\", shape=(20, 10), dtype=float32) \n",
      "     Type  is  <class 'tensorflow.python.ops.variables.Variable'> \n",
      "\n",
      "    'Bias' : Tensor(\"Variable_1/read:0\", shape=(1, 10), dtype=float32) \n",
      "       Type  is  <class 'tensorflow.python.ops.variables.Variable'> \n"
     ]
    }
   ],
   "source": [
    "X = np.random.rand(1, 20)\n",
    "Input = tf.placeholder(tf.float32, [None, 20])\n",
    "Weight = tf.Variable(tf.random_normal([20, 10],  stddev = 0.5))\n",
    "Bias = tf.Variable(tf.zeros([1, 10]))\n",
    "print ( \"  'Input' : %s \\n       Type  is  %s \" %   (Input,  type(Input)))\n",
    "print\n",
    "print ( \"   'Weight' : %s \\n     Type  is  %s \"   %   (Weight,  type(Weight)))\n",
    "print\n",
    "print ( \"    'Bias' : %s \\n       Type  is  %s \"    %    (Bias,  type(Bias)))"
   ]
  },
  {
   "cell_type": "code",
   "execution_count": 22,
   "metadata": {
    "collapsed": true
   },
   "outputs": [],
   "source": [
    "#  Weigh_out  =  sess.run(Weight)  #  this  is  not  allowed  !"
   ]
  },
  {
   "cell_type": "markdown",
   "metadata": {},
   "source": [
    "\"\"\" Initialize Variables \"\"\""
   ]
  },
  {
   "cell_type": "code",
   "execution_count": 23,
   "metadata": {
    "collapsed": false
   },
   "outputs": [
    {
     "name": "stdout",
     "output_type": "stream",
     "text": [
      " initialize variables\n"
     ]
    }
   ],
   "source": [
    "print (\" initialize variables\")"
   ]
  },
  {
   "cell_type": "code",
   "execution_count": 24,
   "metadata": {
    "collapsed": false
   },
   "outputs": [
    {
     "name": "stdout",
     "output_type": "stream",
     "text": [
      "WARNING:tensorflow:From <ipython-input-24-ee4e37902c1a>:1: initialize_all_variables (from tensorflow.python.ops.variables) is deprecated and will be removed after 2017-03-02.\n",
      "Instructions for updating:\n",
      "Use `tf.global_variables_initializer` instead.\n",
      "[[-0.62190479  0.02867508  0.66741943 -0.58264679  0.25664434 -0.30258235\n",
      "   0.57862574  0.03400324 -0.26531416  0.54877549]\n",
      " [-0.35832134 -0.45328313  0.9521054  -0.39387035  0.29426697  0.44225365\n",
      "  -0.54662406  0.39269525  0.06813789 -0.90960532]\n",
      " [ 0.72140098  1.09101069  0.26108983  0.25063908  0.18631232  0.7195968\n",
      "  -0.2289249   0.64189672 -0.27127144 -0.02369289]\n",
      " [ 0.47902179 -0.79964656 -0.88412511  0.36873138 -0.32065389  0.23359944\n",
      "  -0.2437053   0.65172529  0.12320517  0.32175359]\n",
      " [-0.14879818 -0.64847237  0.37980115 -0.0852908  -0.58313459  0.5071243\n",
      "   0.03453797 -0.5646286   1.34693038  0.56118888]\n",
      " [-0.97900128 -0.37186745 -0.5610953   0.16770142  0.67456734 -0.65026391\n",
      "   0.34846181 -0.37049645 -0.21617208 -0.45723468]\n",
      " [ 0.09901288  0.49670577  0.04406515  0.25967613 -0.37522802  0.75210226\n",
      "   0.91721725  0.40354493 -0.099947    0.07183786]\n",
      " [-0.12641066 -0.25931871 -0.39562166 -0.10736252 -0.06344058 -0.31572995\n",
      "  -0.52309293  0.64359397 -0.53619939  0.53247571]\n",
      " [ 0.9078185  -0.04371012  0.33983853  0.3763895   0.22389728 -1.0816474\n",
      "   0.45996645 -0.25691456  0.82481492  1.22596622]\n",
      " [ 0.21739355 -0.42469066 -0.24457194  0.00804649  0.38744545  0.19843626\n",
      "  -0.70055026  0.53565109 -0.34257343  0.0232446 ]\n",
      " [ 0.0208558  -0.38042843 -0.41531363 -0.80455333 -0.32832927 -0.43839365\n",
      "   0.38152629 -0.00302405  0.48547161  0.37517869]\n",
      " [-0.04231287  0.07511429 -0.03608155 -0.65559822  0.20985889 -0.35902122\n",
      "   0.70268983 -0.47199079  0.09341838 -0.81196135]\n",
      " [ 0.67013377 -0.43103939 -0.16881944  0.42846876  0.52673918  0.13291952\n",
      "   0.64141482 -0.89667624 -0.51970035 -0.11078862]\n",
      " [-0.49079755 -0.27048954 -0.17865807  0.21657416 -0.04494938 -0.29259723\n",
      "   0.71955466 -0.02751527 -0.21628107  0.33100644]\n",
      " [-0.58358681  0.29523844 -0.11074617  0.27601165  0.08655235 -0.09052378\n",
      "  -0.34838334  0.6688605  -0.50985622  0.03038925]\n",
      " [ 0.95746952 -0.6629656  -0.57910991 -0.02195931 -0.04695414  0.52180445\n",
      "   0.44018349  0.05231599  0.90769792 -0.2036469 ]\n",
      " [-0.05079934 -0.11675529  0.36738095 -0.32147506 -0.08231551 -0.15422367\n",
      "   1.12636149 -1.11471164  0.16314171  0.9819119 ]\n",
      " [ 0.27662027  0.22026959  0.28913447  0.66529858  0.24253334  0.35558572\n",
      "   0.65925026 -0.44840008 -1.27845287 -0.19158849]\n",
      " [ 0.51950306 -0.24631256 -0.77019626  0.95697182  0.49045768  0.17809993\n",
      "   0.75476587  0.26318571  0.87194484  0.32470658]\n",
      " [ 0.16453528  0.30977452  0.60457754  0.6924929   0.7580837  -0.47880161\n",
      "  -0.7518518  -1.03718412  0.5421896  -1.15958989]]\n"
     ]
    }
   ],
   "source": [
    "init = tf.initialize_all_variables()\n",
    "sess.run(init)\n",
    "print ( Weight.eval(sess))"
   ]
  },
  {
   "cell_type": "code",
   "execution_count": 25,
   "metadata": {
    "collapsed": false
   },
   "outputs": [
    {
     "name": "stdout",
     "output_type": "stream",
     "text": [
      " Operations with variables ang placeholders\n"
     ]
    }
   ],
   "source": [
    "print ( \" Operations with variables ang placeholders\")"
   ]
  },
  {
   "cell_type": "code",
   "execution_count": 26,
   "metadata": {
    "collapsed": false
   },
   "outputs": [
    {
     "name": "stdout",
     "output_type": "stream",
     "text": [
      " 'op' is Tensor(\"add:0\", shape=(?, 10), dtype=float32) \n",
      "     Type  is  <class 'tensorflow.python.framework.ops.Tensor'>\n",
      "\n",
      "  'val' is [[ 1.31280506 -2.00925255 -1.11990619  2.21244526  1.81909311  0.62762618\n",
      "   2.48178577 -0.29028141 -0.01428449  0.38998955]] \n",
      "    Type  is  <type 'numpy.ndarray'>\n"
     ]
    }
   ],
   "source": [
    "op = tf.matmul(Input, Weight) + Bias\n",
    "val = sess.run(op, feed_dict = {Input : X})\n",
    "print ( \" 'op' is %s \\n     Type  is  %s\"  %  (op, type(op)))\n",
    "print\n",
    "print ( \"  'val' is %s \\n    Type  is  %s\"  %  (val, type(val)))"
   ]
  },
  {
   "cell_type": "markdown",
   "metadata": {},
   "source": [
    "\"\"\" This  is  very  important ! \"\"\""
   ]
  },
  {
   "cell_type": "markdown",
   "metadata": {},
   "source": [
    "\"\"\" remember  ' feed_dict ' ! ! \"\"\""
   ]
  },
  {
   "cell_type": "code",
   "execution_count": 27,
   "metadata": {
    "collapsed": false
   },
   "outputs": [
    {
     "name": "stdout",
     "output_type": "stream",
     "text": [
      " 'add_out'  is  11.0\n",
      "\n",
      " 'mul_out'  is  30.0\n"
     ]
    }
   ],
   "source": [
    "x = tf.placeholder(tf.float32)\n",
    "y = tf.placeholder(tf.float32)\n",
    "add = tf.add(x, y)\n",
    "mul = tf.multiply(x, y)\n",
    "add_out = sess.run(add, feed_dict = {x : 5.0,  y : 6.0})\n",
    "mul_out = sess.run(mul, feed_dict = {x : 5.0,  y : 6.0})\n",
    "print (\" 'add_out'  is  %s\"  %  (add_out))\n",
    "print\n",
    "print (\" 'mul_out'  is  %s\"  %  (mul_out))"
   ]
  },
  {
   "cell_type": "code",
   "execution_count": null,
   "metadata": {
    "collapsed": true
   },
   "outputs": [],
   "source": []
  }
 ],
 "metadata": {
  "anaconda-cloud": {},
  "kernelspec": {
   "display_name": "Python 2",
   "language": "python",
   "name": "python2"
  },
  "language_info": {
   "codemirror_mode": {
    "name": "ipython",
    "version": 2
   },
   "file_extension": ".py",
   "mimetype": "text/x-python",
   "name": "python",
   "nbconvert_exporter": "python",
   "pygments_lexer": "ipython2",
   "version": "2.7.13"
  }
 },
 "nbformat": 4,
 "nbformat_minor": 1
}
